{
 "cells": [
  {
   "cell_type": "markdown",
   "metadata": {},
   "source": [
    "# Types\n",
    "\n",
    "In programming, data has a value and a type. If I were to ask you what \"5\" was you would probably say a number. If I were to ask what \"foo\" was, you might have a few different answers, but one of them would probably be a word.\n",
    "\n",
    "Python is a dynamically typed language. In statically typed languages if we set something up as a number type, it will always be that type. In dynamically typed language, we don't have to set a specific type and they type can even be changed. You can check what type a value is by using the `type()` function.\n",
    "\n",
    "On the operator examples `\"5\" == 5` returned false. This is because they have different types, even though to us it looks like they have the same value. Text in python uses double quotes. `\"\"`"
   ]
  },
  {
   "cell_type": "code",
   "execution_count": null,
   "metadata": {},
   "outputs": [],
   "source": [
    "print(type(5), type(\"foo\"))"
   ]
  },
  {
   "cell_type": "markdown",
   "metadata": {},
   "source": [
    "Running that code, we don't get number or word, we get int and str. The names of the types are a bit different than we are used to.\n",
    "\n",
    "## Common python types\n",
    "\n",
    "| Name | Type |\n",
    "| --- | --- |\n",
    "| String (Text) | `str` |\n",
    "| Integer | `int` |\n",
    "| Float | `float` |\n",
    "| Boolean (true/false) | `bool` |\n",
    "\n",
    "There also a few types that refer to groups of things: `list`, `tuple`, `dict` (Dictionary), `set`.\n",
    "\n",
    "| Type | Ordered | Changeable (Mutable) | Allows Duplicates | Accessed By | Created With |\n",
    "| --- | --- | --- | --- | --- | --- |\n",
    "| List | x | x | x | index | [ ] |\n",
    "| Tuple | x* | add/remove only | x | index | ( ) |\n",
    "| Dictionary | x* | x | | key | { key : value } |\n",
    "| Set | | add/remove only | | loop through | { } |\n",
    "\n",
    "\\* added in python 3.7"
   ]
  }
 ],
 "metadata": {
  "interpreter": {
   "hash": "63fd5069d213b44bf678585dea6b12cceca9941eaf7f819626cde1f2670de90d"
  },
  "kernelspec": {
   "display_name": "Python 3.9.6 64-bit",
   "language": "python",
   "name": "python3"
  },
  "language_info": {
   "codemirror_mode": {
    "name": "ipython",
    "version": 3
   },
   "file_extension": ".py",
   "mimetype": "text/x-python",
   "name": "python",
   "nbconvert_exporter": "python",
   "pygments_lexer": "ipython3",
   "version": "3.9.6"
  },
  "orig_nbformat": 4
 },
 "nbformat": 4,
 "nbformat_minor": 2
}
