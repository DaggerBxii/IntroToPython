{
 "cells": [
  {
   "cell_type": "markdown",
   "metadata": {},
   "source": [
    "# Handling HP\n",
    "\n",
    "As our players defeat monsters, or heaven forbid even lose!) they are going to lose HP and we need a mechanism that handles that for us. As with many games, we'll create a mechanic where HP regens over time. While you might initialy reach for some sort of timer to regularly update values, we are going to think like a programer and handle things a bit differently.\n",
    "\n",
    "Currently we have no checks on a player's HP other than if they win or lose combat. We need to add two checks- we want to set a minimum value of zero and we want to prevent a player from starting a new encounter with zero health.\n",
    "\n",
    "Updating the player `take_damage()` method is pretty straightforward:"
   ]
  },
  {
   "cell_type": "code",
   "execution_count": null,
   "metadata": {},
   "outputs": [],
   "source": [
    "def take_damage(self, damage) -> bool:\n",
    "    self.current_hp -= damage\n",
    "    if self.current_hp < 0:\n",
    "        self.current_hp = 0\n",
    "    return self.is_alive()"
   ]
  },
  {
   "cell_type": "markdown",
   "metadata": {},
   "source": [
    "Then in the encounter class we need to add our checks. There are two places to add checks. First is in the `create_encounter()` method, and the second is in the `player_action()` method where we create an encounter if there isn't one already."
   ]
  },
  {
   "cell_type": "code",
   "execution_count": null,
   "metadata": {},
   "outputs": [],
   "source": [
    "def create_encounter(self, player_id):\n",
    "    encounter = self.encounters.get(player_id)\n",
    "    print(encounter)\n",
    "    if encounter:\n",
    "        return f\"\"\"Current Status:\n",
    "        Player HP: {self.players[player_id].current_hp}\n",
    "        Mob HP: {encounter.mob.current_hp}\"\"\"\n",
    "    else:\n",
    "        player = self.players[player_id]\n",
    "        if player.is_alive():\n",
    "            self.encounters[player_id] = Encounter(player)\n",
    "            return \"Encounter created!\"\n",
    "        else:\n",
    "            return \"Can't start a fight with no health!\"\n",
    "\n",
    "def player_action(self, player_id):\n",
    "    encounter = self.encounters.get(player_id)\n",
    "    if encounter is None:\n",
    "        new_encounter = self.createEncounter(player_id)\n",
    "        encounter = self.encounters[player_id]\n",
    "        if encounter is None:\n",
    "            return new_encounter\n",
    "    #rest of this method continues"
   ]
  },
  {
   "cell_type": "markdown",
   "metadata": {},
   "source": [
    "## Creating regen\n",
    "\n",
    "So this is where we need to think like a coder. We could set a timer to regularly update player health, but we don't need that data all the time. We only care when the player is interacting with the bot. So we'll use a different strategy. We'll keep track of the last time their health changed. Then when they access that value we'll calculate what the value would be if we had used a timer.\n",
    "\n",
    "There's a couple things to add here. A `last_hp_update` property that holds the value. we are then also going to do a little magic to create a \"getter\" this is a special function that's called whenever we try to access a value. We'll use that to update the HP whenever we access it."
   ]
  },
  {
   "cell_type": "code",
   "execution_count": null,
   "metadata": {},
   "outputs": [],
   "source": [
    "class Player:\n",
    "    def __init__(self, id, xp=0, attack=0, hp=0):\n",
    "        self.id = id\n",
    "        self.xp = xp\n",
    "        self.attack = attack\n",
    "        self.max_hp = hp\n",
    "        self._current_hp = hp\n",
    "        self.last_hp_update = datetime.now()\n",
    "\n",
    "    @property\n",
    "    def current_hp(self):\n",
    "        now = datetime.now()\n",
    "        if self._current_hp < self.max_hp:\n",
    "            time_passed = now - self.last_hp_update\n",
    "            hp_change = (time_passed.total_seconds() - 30) * .1\n",
    "            if hp_change + self._current_hp > self.max_hp:\n",
    "                self._current_hp = self.max_hp\n",
    "            else:\n",
    "                self._current_hp += hp_change\n",
    "\n",
    "        self.last_hp_update = now\n",
    "        return self._current_hp\n",
    "\n",
    "    def do_attack(self) -> int:\n",
    "        #rest of the class continues"
   ]
  }
 ],
 "metadata": {
  "language_info": {
   "name": "python"
  },
  "orig_nbformat": 4
 },
 "nbformat": 4,
 "nbformat_minor": 2
}
