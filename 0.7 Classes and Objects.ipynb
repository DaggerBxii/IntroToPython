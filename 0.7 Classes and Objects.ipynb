{
 "cells": [
  {
   "cell_type": "markdown",
   "metadata": {},
   "source": [
    "# Classes and Objects\n",
    "\n",
    "We learned that functions allow you to bundle groups of code together so that they can be used together. Classes are a larger grouping of code that can contain multiple functions, refurred to as methods, and related data, called attributes.\n",
    "\n",
    "One way to think of objects is that they are kind of like a noun. When you describe a cat, it has properties like color, name, breed, or age. They also can do certain things like walk, jump, purr, or eat.\n",
    "\n",
    "## Classes\n",
    "\n",
    "A class specifically refers to the definition of the thing we want to code. We use the `class` keyword and indent everything after that which is part of the class."
   ]
  },
  {
   "cell_type": "code",
   "execution_count": null,
   "metadata": {},
   "outputs": [],
   "source": [
    "class Cat:\n",
    "    name = \"Pumpkin\""
   ]
  },
  {
   "cell_type": "markdown",
   "metadata": {},
   "source": [
    "Setting properties like this isn't very flexible though, since every cat we work with would always be called Pumpkin. At the beginning of each class definition, we can use a special function named `__init__()` in order to set property values what you use the class."
   ]
  },
  {
   "cell_type": "code",
   "execution_count": null,
   "metadata": {},
   "outputs": [],
   "source": [
    "class Cat:\n",
    "    def __init__(self, name):\n",
    "        self.name = name"
   ]
  },
  {
   "cell_type": "markdown",
   "metadata": {},
   "source": [
    "The first parameter in any function contained in the class is a reference to the class itself- it is how we access properties in the class from within the method. Some languages have similar concepts, like Javascript `this`.\n",
    "\n",
    "## Objects\n",
    "\n",
    "A class defines what something looks like, whereas an object defines a specific instance of a class. So a class might define what a cat is, and then we create one or more objects based on that definition to represent individual cats.\n",
    "\n",
    "We use dot syntax to access the properties and methods in an object"
   ]
  },
  {
   "cell_type": "code",
   "execution_count": null,
   "metadata": {},
   "outputs": [],
   "source": [
    "class Cat: \n",
    "    def __init__(self, name, color):\n",
    "        self.name = name\n",
    "        self.color = color\n",
    "    \n",
    "    def purr(s):\n",
    "        print(\"purr\")\n",
    "\n",
    "spot = Cat(\"Spot\", \"orange\")\n",
    "\n",
    "print(spot.name)\n",
    "\n",
    "spot.purr()"
   ]
  },
  {
   "cell_type": "markdown",
   "metadata": {},
   "source": [
    "## Inheritance\n",
    "\n",
    "Inheritance is a concept in Object Oriented programing where one class definition can \"inherit\" properties and methods from another. This allows us to reuse code for classes that have a lot in common but need to have some parts that are different. In order to define inheritance, pass the parent class name into the child class definition.\n",
    "\n",
    "### Multiple INheritance\n",
    "\n",
    "Python allows one class to inherit from multiple parent classes, as well as things like chaining multiple levels of inheritance. This sort of thing can get messy though, so be very careful when designing your system to avoid this where possible."
   ]
  },
  {
   "cell_type": "code",
   "execution_count": null,
   "metadata": {},
   "outputs": [],
   "source": [
    "class Animal:\n",
    "    def __init__(self, name, color):\n",
    "        self.name = name\n",
    "        self.color= color\n",
    "\n",
    "class Cat(Animal):\n",
    "    def purr(s):\n",
    "        print(\"purr\")\n",
    "\n",
    "class Dog(Animal):\n",
    "    def wag(s):\n",
    "        print(\"Happy to see you!\")\n",
    "\n",
    "spot = Cat(\"Spot\", \"orange\")\n",
    "print(spot.color)\n",
    "spot.purr()\n",
    "\n",
    "#if we run this line it will throw an error\n",
    "# spot.wag()"
   ]
  },
  {
   "cell_type": "markdown",
   "metadata": {},
   "source": [
    "## Private Methods/Properties"
   ]
  },
  {
   "cell_type": "markdown",
   "metadata": {},
   "source": [
    "## Static Properties and Methods"
   ]
  }
 ],
 "metadata": {
  "interpreter": {
   "hash": "63fd5069d213b44bf678585dea6b12cceca9941eaf7f819626cde1f2670de90d"
  },
  "kernelspec": {
   "display_name": "Python 3.9.6 64-bit",
   "language": "python",
   "name": "python3"
  },
  "language_info": {
   "codemirror_mode": {
    "name": "ipython",
    "version": 3
   },
   "file_extension": ".py",
   "mimetype": "text/x-python",
   "name": "python",
   "nbconvert_exporter": "python",
   "pygments_lexer": "ipython3",
   "version": "3.9.6"
  },
  "orig_nbformat": 4
 },
 "nbformat": 4,
 "nbformat_minor": 2
}
